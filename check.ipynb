{
 "cells": [
  {
   "cell_type": "code",
   "execution_count": 3,
   "metadata": {},
   "outputs": [
    {
     "ename": "SyntaxError",
     "evalue": "invalid syntax (765192295.py, line 30)",
     "output_type": "error",
     "traceback": [
      "\u001b[0;36m  Cell \u001b[0;32mIn[3], line 30\u001b[0;36m\u001b[0m\n\u001b[0;31m    .option(\"lowerBound\", \"1\") \\\u001b[0m\n\u001b[0m    ^\u001b[0m\n\u001b[0;31mSyntaxError\u001b[0m\u001b[0;31m:\u001b[0m invalid syntax\n"
     ]
    }
   ],
   "source": [
    "from pyspark.sql import SparkSession\n",
    "\n",
    "# Database configuration\n",
    "db_host = \"localhost\"\n",
    "db_port = \"5432\"\n",
    "db_user = \"sylvesteranthony\"\n",
    "db_name = \"ride_prediction\"\n",
    "db_table = \"combined_data\"\n",
    "jdbc_url = f\"jdbc:postgresql://{db_host}:{db_port}/{db_name}\"\n",
    "\n",
    "# Create a SparkSession\n",
    "spark = SparkSession.builder \\\n",
    "    .appName(\"PostgrestoSpark\") \\\n",
    "    .config(\"spark.jars\", \"/Users/sylvesteranthony/Documents/Ride_prediction/postgresql-42.7.5.jar\") \\\n",
    "    .config(\"spark.driver.memory\", \"4g\") \\\n",
    "    .config(\"spark.executor.memory\", \"4g\") \\\n",
    "    .getOrCreate()\n",
    "    \n",
    "\n",
    "\n",
    "# Read data from PostgreSQL into a Spark DataFrame\n",
    "try:\n",
    "    df = spark.read \\\n",
    "    .format(\"jdbc\") \\\n",
    "    .option(\"url\", jdbc_url) \\\n",
    "    .option(\"dbtable\", db_table) \\\n",
    "    .option(\"user\", db_user) \\\n",
    "    .option(\"driver\", \"org.postgresql.Driver\") \\\n",
    "    .option(\"partitionColumn\", \"ride_id\") \\\n",
    "    .option(\"lowerBound\", \"1\") \\\n",
    "    .option(\"upperBound\", \"10000\") \\\n",
    "    .option(\"numPartitions\", \"4\") \\\n",
    "    .load()\n",
    "\n",
    "    # Show the data\n",
    "    df.show()\n",
    "\n",
    "    # Perform Spark operations\n",
    "    print(f\"Number of rows: {df.count()}\")\n",
    "    df.printSchema()\n",
    "\n",
    "except Exception as e:\n",
    "    print(\"An error occurred:\", e)\n",
    "finally:\n",
    "    # Stop the Spark session\n",
    "    spark.stop()\n"
   ]
  }
 ],
 "metadata": {
  "kernelspec": {
   "display_name": "Python 3",
   "language": "python",
   "name": "python3"
  },
  "language_info": {
   "codemirror_mode": {
    "name": "ipython",
    "version": 3
   },
   "file_extension": ".py",
   "mimetype": "text/x-python",
   "name": "python",
   "nbconvert_exporter": "python",
   "pygments_lexer": "ipython3",
   "version": "3.9.1"
  }
 },
 "nbformat": 4,
 "nbformat_minor": 2
}
