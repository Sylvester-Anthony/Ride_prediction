{
 "cells": [
  {
   "cell_type": "code",
   "execution_count": null,
   "metadata": {},
   "outputs": [
    {
     "name": "stdout",
     "output_type": "stream",
     "text": [
      "['JC-201701-citibike-tripdata.csv', 'JC-202412-citibike-tripdata.csv', 'JC-202010-citibike-tripdata.csv', 'JC-202006-citibike-tripdata.csv', 'JC-202404-citibike-tripdata.csv', 'JC-202105-citibike-tripdata.csv', 'JC-201902-citibike-tripdata.csv', 'JC-201512-citibike-tripdata.csv', 'JC-202203-citibike-tripdata.csv', 'JC-201801-citibike-tripdata.csv', 'JC-201709-citibike-tripdata.csv', 'JC-201809-citibike-tripdata.csv', 'JC-202308-citibike-tripdata.csv', 'JC-20161-citibike-tripdata.csv', 'JC-202302-citibike-tripdata.csv', 'JC-201510-citibike-tripdata.csv', 'JC-201803-citibike-tripdata.csv', 'JC-202201-citibike-tripdata.csv', 'JC-202410-citibike-tripdata.csv', 'JC-201703-citibike-tripdata.csv', 'JC-202111-citibike-tripdata.csv', 'JC-202012-citibike-tripdata.csv', 'JC-202004-citibike-tripdata.csv', 'JC-202107-citibike-tripdata.csv', 'JC-202406-citibike-tripdata.csv', 'JC-202209-citibike-tripdata.csv', 'JC-201708 citibike-tripdata.csv', 'JC-201908-citibike-tripdata.csv', 'JC-20163-citibike-tripdata.csv', 'JC-201608-citibike-tripdata.csv', 'JC-202408-citibike-tripdata.csv', 'JC-202109-citibike-tripdata.csv', 'JC-201606-citibike-tripdata.csv', 'JC-201705-citibike-tripdata.csv', 'JC-202101-citibike-tripdata.csv', 'JC-201610-citibike-tripdata.csv', 'JC-202002-citibike-tripdata.csv', 'JC-201910-citibike-tripdata.csv', 'JC-202312-citibike-tripdata.csv', 'JC-202211-citibike-tripdata.csv', 'JC-201805-citibike-tripdata.csv', 'JC-202304-citibike-tripdata.csv', 'JC-201906-citibike-tripdata.csv', 'JC-202008-citibike-tripdata.csv', 'JC-202207-citbike-tripdata.csv', 'JC-202310-citibike-tripdata.csv', 'JC-201912-citibike-tripdata.csv', 'JC-201811-citibike-tripdata.csv', 'JC-202205-citibike-tripdata.csv', 'JC-201807-citibike-tripdata.csv', 'JC-201904-citibike-tripdata.csv', 'JC-202306-citibike-tripdata.csv', 'JC-201604-citibike-tripdata.csv', 'JC-201707-citibike-tripdata.csv', 'JC-202402-citibike-tripdata.csv', 'JC-201711-citibike-tripdata.csv', 'JC-202103-citibike-tripdata.csv', 'JC-201612-citibike-tripdata.csv', 'JC-201808-citibike-tripdata.csv', 'JC-202309-citibike-tripdata.csv', 'JC-202007-citibike-tripdata.csv', 'JC-202405-citibike-tripdata.csv', 'JC-202104-citibike-tripdata.csv', 'JC-202112-citibike-tripdata.csv', 'JC-202011-citibike-tripdata.csv', 'JC-201903-citibike-tripdata.csv', 'JC-202301-citibike-tripdata.csv', 'JC-202202-citibike-tripdata.csv', 'JC-20162-citibike-tripdata.csv', 'JC-202208-citibike-tripdata.csv', 'JC-201909-citibike-tripdata.csv', 'JC-201609-citibike-tripdata.csv', 'JC-201511-citibike-tripdata.csv', 'JC-202303-citibike-tripdata.csv', 'JC-201901-citibike-tripdata.csv', 'JC-201802-citibike-tripdata.csv', 'JC-202005-citibike-tripdata.csv', 'JC-202106-citibike-tripdata.csv', 'JC-202407-citibike-tripdata.csv', 'JC-202411-citibike-tripdata.csv', 'JC-202110-citibike-tripdata.csv', 'JC-201702-citibike-tripdata.csv', 'JC-201712-citibike-tripdata.csv', 'JC-202401-citibike-tripdata.csv', 'JC-202003-citibike-tripdata.csv', 'JC-201611-citibike-tripdata.csv', 'JC-201607-citibike-tripdata.csv', 'JC-201704-citibike-tripdata.csv', 'JC-201804-citibike-tripdata.csv', 'JC-202206-citibike-tripdata.csv', 'JC-202305-citibike-tripdata.csv', 'JC-201907-citibike-tripdata.csv', 'JC-201911-citibike-tripdata.csv', 'JC-202210-citibike-tripdata.csv', 'JC-201812-citibike-tripdata.csv', 'JC-202409-citibike-tripdata.csv', 'JC-202108-citibike-tripdata.csv', 'JC-201509-citibike-tripdata.csv', 'JC-202204-citibike-tripdata.csv', 'JC-201806-citibike-tripdata.csv', 'JC-201905-citibike-tripdata.csv', 'JC-202307-citibike-tripdata.csv', 'JC-202311-citibike-tripdata.csv', 'JC-201810-citibike-tripdata.csv', 'JC-202212-citibike-tripdata.csv', 'JC-202403-citibike-tripdata.csv', 'JC-202102-citibike-tripdata.csv', 'JC-201710-citibike-tripdata.csv', 'JC-202001-citibike-tripdata.csv', 'JC-201605-citibike-tripdata.csv', 'JC-201706-citibike-tripdata.csv', 'JC-202009-citibike-tripdata.csv']\n"
     ]
    }
   ],
   "source": [
    "import os\n",
    "\n",
    "csv_files = [f for f in os.listdir(\"extracted_filesS\") if f.endswith('.csv')]\n",
    "print(csv_files)"
   ]
  },
  {
   "cell_type": "code",
   "execution_count": 1,
   "metadata": {},
   "outputs": [
    {
     "ename": "NameError",
     "evalue": "name 'csv_files' is not defined",
     "output_type": "error",
     "traceback": [
      "\u001b[0;31m---------------------------------------------------------------------------\u001b[0m",
      "\u001b[0;31mNameError\u001b[0m                                 Traceback (most recent call last)",
      "Cell \u001b[0;32mIn[1], line 5\u001b[0m\n\u001b[1;32m      1\u001b[0m \u001b[38;5;28;01mimport\u001b[39;00m \u001b[38;5;21;01mpandas\u001b[39;00m \u001b[38;5;28;01mas\u001b[39;00m \u001b[38;5;21;01mpd\u001b[39;00m\n\u001b[1;32m      3\u001b[0m dfs \u001b[38;5;241m=\u001b[39m []\n\u001b[0;32m----> 5\u001b[0m \u001b[38;5;28;01mfor\u001b[39;00m csv \u001b[38;5;129;01min\u001b[39;00m \u001b[43mcsv_files\u001b[49m:\n\u001b[1;32m      6\u001b[0m     df \u001b[38;5;241m=\u001b[39m pd\u001b[38;5;241m.\u001b[39mread_csv(os\u001b[38;5;241m.\u001b[39mpath\u001b[38;5;241m.\u001b[39mjoin(\u001b[38;5;124m\"\u001b[39m\u001b[38;5;124mextracted_files\u001b[39m\u001b[38;5;124m\"\u001b[39m, csv))\n\u001b[1;32m      7\u001b[0m     dfs\u001b[38;5;241m.\u001b[39mappend(df)\n",
      "\u001b[0;31mNameError\u001b[0m: name 'csv_files' is not defined"
     ]
    }
   ],
   "source": [
    "import pandas as pd\n",
    "\n",
    "dfs = []\n",
    "\n",
    "for csv in csv_files:\n",
    "    df = pd.read_csv(os.path.join(\"extracted_files\", csv))\n",
    "    dfs.append(df)\n",
    "    \n",
    "final_df = pd.concat(dfs, ignore_index=True)\n"
   ]
  },
  {
   "cell_type": "code",
   "execution_count": 1,
   "metadata": {},
   "outputs": [
    {
     "name": "stderr",
     "output_type": "stream",
     "text": [
      "/var/folders/ll/x130kbsj3p5g6xgf9xqw1kvw0000gn/T/ipykernel_65977/3248589761.py:2: DtypeWarning: Columns (2,3,5,9,13,16,17,18,19,20,21,22,23,28,30,31,33,37,41) have mixed types. Specify dtype option on import or set low_memory=False.\n",
      "  final_df = pd.read_csv('/Users/sylvesteranthony/Documents/Ride_prediction/data_check.csv')\n"
     ]
    }
   ],
   "source": [
    "import pandas as pd\n",
    "final_df = pd.read_csv('/Users/sylvesteranthony/Documents/Ride_prediction/data_check.csv')"
   ]
  },
  {
   "cell_type": "code",
   "execution_count": 2,
   "metadata": {},
   "outputs": [],
   "source": [
    "df_res = pd.DataFrame(columns=[\"Date\", \"Start_Station_ID\", \"Start_Station_Name\"])\n",
    "\n",
    "# Combine columns using the first non-null value\n",
    "df_res['Date'] = final_df[['Start Time', 'started_at', 'starttime']].bfill(axis=1).iloc[:, 0]\n",
    "df_res['Start_Station_ID'] = final_df[['Start Station ID', 'start_station_id', 'start station id']].bfill(axis=1).iloc[:, 0]\n",
    "df_res['Start_Station_Name'] = final_df[['Start Station Name', 'start_station_name', 'start station name']].bfill(axis=1).iloc[:, 0]"
   ]
  },
  {
   "cell_type": "code",
   "execution_count": 3,
   "metadata": {},
   "outputs": [
    {
     "data": {
      "text/plain": [
       "199"
      ]
     },
     "execution_count": 3,
     "metadata": {},
     "output_type": "execute_result"
    }
   ],
   "source": [
    "df['Start_Station_Name'].isna().sum()"
   ]
  },
  {
   "cell_type": "code",
   "execution_count": 3,
   "metadata": {},
   "outputs": [
    {
     "data": {
      "text/html": [
       "<div>\n",
       "<style scoped>\n",
       "    .dataframe tbody tr th:only-of-type {\n",
       "        vertical-align: middle;\n",
       "    }\n",
       "\n",
       "    .dataframe tbody tr th {\n",
       "        vertical-align: top;\n",
       "    }\n",
       "\n",
       "    .dataframe thead th {\n",
       "        text-align: right;\n",
       "    }\n",
       "</style>\n",
       "<table border=\"1\" class=\"dataframe\">\n",
       "  <thead>\n",
       "    <tr style=\"text-align: right;\">\n",
       "      <th></th>\n",
       "      <th>Date</th>\n",
       "      <th>Start_Station_ID</th>\n",
       "      <th>Start_Station_Name</th>\n",
       "    </tr>\n",
       "  </thead>\n",
       "  <tbody>\n",
       "    <tr>\n",
       "      <th>0</th>\n",
       "      <td>2015-09-21</td>\n",
       "      <td>3186</td>\n",
       "      <td>Grove St PATH</td>\n",
       "    </tr>\n",
       "    <tr>\n",
       "      <th>1</th>\n",
       "      <td>2015-09-21</td>\n",
       "      <td>3202</td>\n",
       "      <td>Newport PATH</td>\n",
       "    </tr>\n",
       "    <tr>\n",
       "      <th>2</th>\n",
       "      <td>2015-09-21</td>\n",
       "      <td>3202</td>\n",
       "      <td>Newport PATH</td>\n",
       "    </tr>\n",
       "    <tr>\n",
       "      <th>3</th>\n",
       "      <td>2015-09-21</td>\n",
       "      <td>3195</td>\n",
       "      <td>Sip Ave</td>\n",
       "    </tr>\n",
       "    <tr>\n",
       "      <th>4</th>\n",
       "      <td>2015-09-21</td>\n",
       "      <td>3211</td>\n",
       "      <td>Newark Ave</td>\n",
       "    </tr>\n",
       "    <tr>\n",
       "      <th>...</th>\n",
       "      <td>...</td>\n",
       "      <td>...</td>\n",
       "      <td>...</td>\n",
       "    </tr>\n",
       "    <tr>\n",
       "      <th>5272261</th>\n",
       "      <td>2024-12-31</td>\n",
       "      <td>JC006</td>\n",
       "      <td>Warren St</td>\n",
       "    </tr>\n",
       "    <tr>\n",
       "      <th>5272262</th>\n",
       "      <td>2024-12-31</td>\n",
       "      <td>JC066</td>\n",
       "      <td>Newport PATH</td>\n",
       "    </tr>\n",
       "    <tr>\n",
       "      <th>5272263</th>\n",
       "      <td>2024-12-31</td>\n",
       "      <td>JC023</td>\n",
       "      <td>Brunswick St</td>\n",
       "    </tr>\n",
       "    <tr>\n",
       "      <th>5272264</th>\n",
       "      <td>2024-12-31</td>\n",
       "      <td>JC014</td>\n",
       "      <td>Columbus Drive</td>\n",
       "    </tr>\n",
       "    <tr>\n",
       "      <th>5272265</th>\n",
       "      <td>2024-12-31</td>\n",
       "      <td>JC109</td>\n",
       "      <td>Bergen Ave &amp; Sip Ave</td>\n",
       "    </tr>\n",
       "  </tbody>\n",
       "</table>\n",
       "<p>5272266 rows × 3 columns</p>\n",
       "</div>"
      ],
      "text/plain": [
       "               Date Start_Station_ID    Start_Station_Name\n",
       "0        2015-09-21             3186         Grove St PATH\n",
       "1        2015-09-21             3202          Newport PATH\n",
       "2        2015-09-21             3202          Newport PATH\n",
       "3        2015-09-21             3195               Sip Ave\n",
       "4        2015-09-21             3211            Newark Ave\n",
       "...             ...              ...                   ...\n",
       "5272261  2024-12-31            JC006             Warren St\n",
       "5272262  2024-12-31            JC066          Newport PATH\n",
       "5272263  2024-12-31            JC023          Brunswick St\n",
       "5272264  2024-12-31            JC014        Columbus Drive\n",
       "5272265  2024-12-31            JC109  Bergen Ave & Sip Ave\n",
       "\n",
       "[5272266 rows x 3 columns]"
      ]
     },
     "execution_count": 3,
     "metadata": {},
     "output_type": "execute_result"
    }
   ],
   "source": [
    "df_res['Date'] = pd.to_datetime(df_res['Date']).dt.date\n",
    "\n",
    "# Convert Start_Station_ID to integer\n",
    "df_res['Start_Station_ID'] = df_res['Start_Station_ID'].astype(str).str.replace(r'\\.0$', '', regex=True)\n",
    "\n",
    "\n",
    "\n",
    "df = df_res.sort_values(by='Date')\n",
    "\n",
    "# Reset the index after sorting (optional)\n",
    "df = df.reset_index(drop=True)\n",
    "\n",
    "\n",
    "# Display the final DataFrame\n",
    "df"
   ]
  },
  {
   "cell_type": "code",
   "execution_count": 6,
   "metadata": {},
   "outputs": [
    {
     "data": {
      "text/html": [
       "<div>\n",
       "<style scoped>\n",
       "    .dataframe tbody tr th:only-of-type {\n",
       "        vertical-align: middle;\n",
       "    }\n",
       "\n",
       "    .dataframe tbody tr th {\n",
       "        vertical-align: top;\n",
       "    }\n",
       "\n",
       "    .dataframe thead th {\n",
       "        text-align: right;\n",
       "    }\n",
       "</style>\n",
       "<table border=\"1\" class=\"dataframe\">\n",
       "  <thead>\n",
       "    <tr style=\"text-align: right;\">\n",
       "      <th></th>\n",
       "      <th>Date</th>\n",
       "      <th>Start_Station_ID</th>\n",
       "      <th>Start_Station_Name</th>\n",
       "      <th>Users_Count</th>\n",
       "    </tr>\n",
       "  </thead>\n",
       "  <tbody>\n",
       "    <tr>\n",
       "      <th>0</th>\n",
       "      <td>2015-09-21</td>\n",
       "      <td>3183</td>\n",
       "      <td>Exchange Place</td>\n",
       "      <td>29</td>\n",
       "    </tr>\n",
       "    <tr>\n",
       "      <th>1</th>\n",
       "      <td>2015-09-21</td>\n",
       "      <td>3184</td>\n",
       "      <td>Paulus Hook</td>\n",
       "      <td>14</td>\n",
       "    </tr>\n",
       "    <tr>\n",
       "      <th>2</th>\n",
       "      <td>2015-09-21</td>\n",
       "      <td>3185</td>\n",
       "      <td>City Hall</td>\n",
       "      <td>35</td>\n",
       "    </tr>\n",
       "    <tr>\n",
       "      <th>3</th>\n",
       "      <td>2015-09-21</td>\n",
       "      <td>3186</td>\n",
       "      <td>Grove St PATH</td>\n",
       "      <td>32</td>\n",
       "    </tr>\n",
       "    <tr>\n",
       "      <th>4</th>\n",
       "      <td>2015-09-21</td>\n",
       "      <td>3187</td>\n",
       "      <td>Warren St</td>\n",
       "      <td>12</td>\n",
       "    </tr>\n",
       "    <tr>\n",
       "      <th>...</th>\n",
       "      <td>...</td>\n",
       "      <td>...</td>\n",
       "      <td>...</td>\n",
       "      <td>...</td>\n",
       "    </tr>\n",
       "    <tr>\n",
       "      <th>198099</th>\n",
       "      <td>2024-12-31</td>\n",
       "      <td>JC108</td>\n",
       "      <td>Bergen Ave &amp; Stegman St</td>\n",
       "      <td>3</td>\n",
       "    </tr>\n",
       "    <tr>\n",
       "      <th>198100</th>\n",
       "      <td>2024-12-31</td>\n",
       "      <td>JC109</td>\n",
       "      <td>Bergen Ave &amp; Sip Ave</td>\n",
       "      <td>44</td>\n",
       "    </tr>\n",
       "    <tr>\n",
       "      <th>198101</th>\n",
       "      <td>2024-12-31</td>\n",
       "      <td>JC110</td>\n",
       "      <td>JC Medical Center</td>\n",
       "      <td>13</td>\n",
       "    </tr>\n",
       "    <tr>\n",
       "      <th>198102</th>\n",
       "      <td>2024-12-31</td>\n",
       "      <td>JC115</td>\n",
       "      <td>Grove St PATH</td>\n",
       "      <td>70</td>\n",
       "    </tr>\n",
       "    <tr>\n",
       "      <th>198103</th>\n",
       "      <td>2024-12-31</td>\n",
       "      <td>JC116</td>\n",
       "      <td>Exchange Pl</td>\n",
       "      <td>26</td>\n",
       "    </tr>\n",
       "  </tbody>\n",
       "</table>\n",
       "<p>198104 rows × 4 columns</p>\n",
       "</div>"
      ],
      "text/plain": [
       "              Date Start_Station_ID       Start_Station_Name  Users_Count\n",
       "0       2015-09-21             3183           Exchange Place           29\n",
       "1       2015-09-21             3184              Paulus Hook           14\n",
       "2       2015-09-21             3185                City Hall           35\n",
       "3       2015-09-21             3186            Grove St PATH           32\n",
       "4       2015-09-21             3187                Warren St           12\n",
       "...            ...              ...                      ...          ...\n",
       "198099  2024-12-31            JC108  Bergen Ave & Stegman St            3\n",
       "198100  2024-12-31            JC109     Bergen Ave & Sip Ave           44\n",
       "198101  2024-12-31            JC110        JC Medical Center           13\n",
       "198102  2024-12-31            JC115            Grove St PATH           70\n",
       "198103  2024-12-31            JC116              Exchange Pl           26\n",
       "\n",
       "[198104 rows x 4 columns]"
      ]
     },
     "execution_count": 6,
     "metadata": {},
     "output_type": "execute_result"
    }
   ],
   "source": [
    "df_users_count = df.groupby(['Date', 'Start_Station_ID', 'Start_Station_Name']).size().reset_index(name='Users_Count')\n",
    "df_users_count"
   ]
  }
 ],
 "metadata": {
  "kernelspec": {
   "display_name": "Python 3",
   "language": "python",
   "name": "python3"
  },
  "language_info": {
   "codemirror_mode": {
    "name": "ipython",
    "version": 3
   },
   "file_extension": ".py",
   "mimetype": "text/x-python",
   "name": "python",
   "nbconvert_exporter": "python",
   "pygments_lexer": "ipython3",
   "version": "3.9.1"
  }
 },
 "nbformat": 4,
 "nbformat_minor": 2
}
